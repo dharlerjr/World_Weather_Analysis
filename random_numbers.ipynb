{
 "cells": [
  {
   "cell_type": "code",
   "execution_count": 1,
   "id": "02f22a7d",
   "metadata": {},
   "outputs": [],
   "source": [
    "# Import the random module.\n",
    "import random"
   ]
  },
  {
   "cell_type": "code",
   "execution_count": 3,
   "id": "c7dc00ed",
   "metadata": {},
   "outputs": [
    {
     "data": {
      "text/plain": [
       "30"
      ]
     },
     "execution_count": 3,
     "metadata": {},
     "output_type": "execute_result"
    }
   ],
   "source": [
    "random.randint(-90, 90)"
   ]
  },
  {
   "cell_type": "code",
   "execution_count": 4,
   "id": "8429cc3d",
   "metadata": {},
   "outputs": [
    {
     "data": {
      "text/plain": [
       "0.29006378258235843"
      ]
     },
     "execution_count": 4,
     "metadata": {},
     "output_type": "execute_result"
    }
   ],
   "source": [
    "random.random()"
   ]
  },
  {
   "cell_type": "code",
   "execution_count": 6,
   "id": "4c6162af",
   "metadata": {},
   "outputs": [
    {
     "data": {
      "text/plain": [
       "5.1476690602918325"
      ]
     },
     "execution_count": 6,
     "metadata": {},
     "output_type": "execute_result"
    }
   ],
   "source": [
    "random_num = random.randint(-90, 89) + random.random()\n",
    "random_num"
   ]
  },
  {
   "cell_type": "code",
   "execution_count": 8,
   "id": "b07065db",
   "metadata": {},
   "outputs": [
    {
     "name": "stdout",
     "output_type": "stream",
     "text": [
      "-84.62813074094466\n",
      "59.64733896655075\n",
      "85.37526195931777\n",
      "2.402560429202623\n",
      "-39.22230186846025\n",
      "-86.16730467029271\n",
      "-46.74919881734407\n",
      "-24.792800258195975\n",
      "62.2227197219449\n",
      "-37.01916641548267\n"
     ]
    }
   ],
   "source": [
    "x = 1\n",
    "latitudes = []\n",
    "while x < 11:\n",
    "    rand_lat = random.randint(-90, 89) + random. random()\n",
    "    latitudes.append(rand_lat)\n",
    "    x += 1\n",
    "for lat in latitudes:\n",
    "    print(lat)"
   ]
  },
  {
   "cell_type": "code",
   "execution_count": null,
   "id": "fb4cfd9f",
   "metadata": {},
   "outputs": [],
   "source": []
  },
  {
   "cell_type": "code",
   "execution_count": 9,
   "id": "832624bf",
   "metadata": {},
   "outputs": [
    {
     "data": {
      "text/plain": [
       "15"
      ]
     },
     "execution_count": 9,
     "metadata": {},
     "output_type": "execute_result"
    }
   ],
   "source": [
    "random.randrange(-90, 90, 1)"
   ]
  },
  {
   "cell_type": "code",
   "execution_count": 10,
   "id": "24e01540",
   "metadata": {},
   "outputs": [
    {
     "data": {
      "text/plain": [
       "-54"
      ]
     },
     "execution_count": 10,
     "metadata": {},
     "output_type": "execute_result"
    }
   ],
   "source": [
    "random.randrange(-90, 90, 3)"
   ]
  },
  {
   "cell_type": "code",
   "execution_count": 11,
   "id": "ba1b74b3",
   "metadata": {},
   "outputs": [
    {
     "data": {
      "text/plain": [
       "-40.75228176649119"
      ]
     },
     "execution_count": 11,
     "metadata": {},
     "output_type": "execute_result"
    }
   ],
   "source": [
    "random.uniform(-90, 90)"
   ]
  },
  {
   "cell_type": "code",
   "execution_count": 12,
   "id": "6cac8908",
   "metadata": {},
   "outputs": [],
   "source": [
    "# Import the NumPy module.\n",
    "import numpy as np"
   ]
  },
  {
   "cell_type": "code",
   "execution_count": 13,
   "id": "f032dbdc",
   "metadata": {},
   "outputs": [
    {
     "data": {
      "text/plain": [
       "-56.49880781794736"
      ]
     },
     "execution_count": 13,
     "metadata": {},
     "output_type": "execute_result"
    }
   ],
   "source": [
    "np.random.uniform(-90.000, 90.000)"
   ]
  },
  {
   "cell_type": "code",
   "execution_count": 14,
   "id": "a5724a4d",
   "metadata": {
    "scrolled": true
   },
   "outputs": [
    {
     "data": {
      "text/plain": [
       "array([-50.20864117, -82.61538673,  21.0335985 , -66.19804337,\n",
       "       -30.23442126,  35.81854235,   3.90262738,  33.55248014,\n",
       "       -18.08421604, -33.55916685,  17.19425496,  68.65586746,\n",
       "       -60.85663077,  89.42610076,  13.70363914, -11.23511117,\n",
       "       -44.85830854,  20.13858148,   1.22098529,  10.96742807,\n",
       "        39.89716291,  62.8501637 ,  43.46384002,  51.84502591,\n",
       "       -84.73294969, -82.46722744,  28.6381291 ,  33.81200563,\n",
       "       -58.73199179,  13.03628405,   8.10587068,  53.79438444,\n",
       "        59.81474062, -86.38713022, -63.38834391, -25.04260887,\n",
       "       -86.13965033, -81.96888698,  64.10434089,  -8.86197786,\n",
       "        31.013637  ,  65.19669461, -10.57200145,  -2.43683953,\n",
       "        18.28759211,  29.15611692,   9.00842999,  22.30059376,\n",
       "        73.58020145,   9.50629309])"
      ]
     },
     "execution_count": 14,
     "metadata": {},
     "output_type": "execute_result"
    }
   ],
   "source": [
    "np.random.uniform(-90.000, 90.000, size = 50)"
   ]
  },
  {
   "cell_type": "code",
   "execution_count": 15,
   "id": "74d0f1a6",
   "metadata": {},
   "outputs": [],
   "source": [
    "# Import timeit.\n",
    "import timeit"
   ]
  },
  {
   "cell_type": "code",
   "execution_count": 17,
   "id": "7ea6656f",
   "metadata": {},
   "outputs": [
    {
     "name": "stdout",
     "output_type": "stream",
     "text": [
      "28.4 µs ± 439 ns per loop (mean ± std. dev. of 7 runs, 10000 loops each)\n"
     ]
    }
   ],
   "source": [
    "%timeit np.random.uniform(-90.000, 90.000, size = 1500)"
   ]
  }
 ],
 "metadata": {
  "kernelspec": {
   "display_name": "PythonData",
   "language": "python",
   "name": "pythondata"
  },
  "language_info": {
   "codemirror_mode": {
    "name": "ipython",
    "version": 3
   },
   "file_extension": ".py",
   "mimetype": "text/x-python",
   "name": "python",
   "nbconvert_exporter": "python",
   "pygments_lexer": "ipython3",
   "version": "3.9.7"
  }
 },
 "nbformat": 4,
 "nbformat_minor": 5
}
